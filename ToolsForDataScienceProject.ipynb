{
    "cells": [
        {
            "cell_type": "markdown",
            "metadata": {
                "collapsed": true
            },
            "source": "# My Jupyter Notebook on IBM Watson Studio"
        },
        {
            "cell_type": "markdown",
            "metadata": {},
            "source": "My name is <b>Yashaswini Kulkarni</b>\n\n    \n    \nI am currently working as a software enginer, but intend to enter the data feild."
        },
        {
            "cell_type": "markdown",
            "metadata": {},
            "source": "<i>I am interested in the domain of data science because I like to work with Python. Also, I like analysing data and understanding the hidden meaning and insights from it.</i>"
        },
        {
            "cell_type": "markdown",
            "metadata": {},
            "source": "<h3>The below code is supposed to add 2 integer variables and return the output</h3>"
        },
        {
            "cell_type": "code",
            "execution_count": 3,
            "metadata": {},
            "outputs": [
                {
                    "data": {
                        "text/plain": "2"
                    },
                    "execution_count": 3,
                    "metadata": {},
                    "output_type": "execute_result"
                }
            ],
            "source": "def add_2_nums(a,b):\n    return a+b\nc=add_2_nums(1,1)\nc\n    "
        },
        {
            "cell_type": "markdown",
            "metadata": {},
            "source": "1. Numbered item\n1. Numbered item\n\n1. Numbered item\n     1. Substep\n     \n~Strikethrough text~\n\ncolor=<font color='pink'>The text to be show in pink</font>"
        },
        {
            "cell_type": "code",
            "execution_count": null,
            "metadata": {},
            "outputs": [],
            "source": ""
        }
    ],
    "metadata": {
        "kernelspec": {
            "display_name": "Python 3.9",
            "language": "python",
            "name": "python3"
        },
        "language_info": {
            "codemirror_mode": {
                "name": "ipython",
                "version": 3
            },
            "file_extension": ".py",
            "mimetype": "text/x-python",
            "name": "python",
            "nbconvert_exporter": "python",
            "pygments_lexer": "ipython3",
            "version": "3.9.7"
        }
    },
    "nbformat": 4,
    "nbformat_minor": 1
}